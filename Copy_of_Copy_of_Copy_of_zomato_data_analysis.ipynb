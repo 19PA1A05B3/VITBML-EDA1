{
  "nbformat": 4,
  "nbformat_minor": 0,
  "metadata": {
    "colab": {
      "name": "Copy of Copy of Copy of zomato_data_analysis.ipynb",
      "provenance": [],
      "collapsed_sections": [],
      "include_colab_link": true
    },
    "kernelspec": {
      "name": "python3",
      "display_name": "Python 3"
    }
  },
  "cells": [
    {
      "cell_type": "markdown",
      "metadata": {
        "id": "view-in-github",
        "colab_type": "text"
      },
      "source": [
        "<a href=\"https://colab.research.google.com/github/19PA1A05B3/VITBML-EDA1/blob/master/Copy_of_Copy_of_Copy_of_zomato_data_analysis.ipynb\" target=\"_parent\"><img src=\"https://colab.research.google.com/assets/colab-badge.svg\" alt=\"Open In Colab\"/></a>"
      ]
    },
    {
      "cell_type": "markdown",
      "metadata": {
        "id": "3R7sVQYlRUVC",
        "colab_type": "text"
      },
      "source": [
        "#**Description**\n",
        "\n",
        "***Context:***\n",
        "\n",
        "Zomato restaurants with their ratings, votes, other crucial data attributes to do some research work.\n",
        "\n",
        "***Content***\n",
        "\n",
        "This zomato exploratory data analysis is for the foodies to find best restaurants, value for money restaurants in their locality. It also helps to find their required cuisines in their locality.\n",
        "\n",
        "###***Features:***\n",
        "\n",
        "There are 12 variables used in the gathering of this data they are:\n",
        "\n",
        "***name:*** Here the variable name represents the  *name of the restaurant*\n",
        "\n",
        "***city:*** Here the variable city represents the  *city in which the restaurant is present*\n",
        "\n",
        "***city_id:*** Here the variable city_id represents the  *Id of the city*\n",
        "\n",
        "***locality:*** Here the variable locality represents the *locality in which the restaurant is located in the city*\n",
        "\n",
        "***cuisines:*** Here the variable cuisines represents the *various types of dishes available in the restaurant*\n",
        "\n",
        "***average_cost_for_two:*** Here the variable average_cost_for_two represents the *the amount spent by two people on average*\n",
        "\n",
        "***currency:*** Here the variable currency represents the *currency given by people*\n",
        "\n",
        "***price_range_Rs:*** Here the variable price_range_Rs represents the *the range of the price of the ordered items in Rupees*\n",
        "\n",
        "***rating_text:*** Here the variable rating_text represents the *the rating given by the customers in the form of text i.e; good, Excellent or Average*\n",
        "\n",
        "***votes:*** Here the variable votes represents the *the no of votes voted by the customers that the food is good*\n",
        "\n",
        "***delivery:*** Here the varible delivery represents,  *Are the food items delivered on time or not?*\n",
        "\n",
        "***aggregate_rating:*** Here the variable aggregate_rating represents the *average rating given by the customers to the restaurant out of 5*\n",
        "\n",
        "\n",
        "\n",
        "\n",
        "\n"
      ]
    },
    {
      "cell_type": "markdown",
      "metadata": {
        "id": "QQp0VhbYLtQ_",
        "colab_type": "text"
      },
      "source": [
        "#Questions that we want to answer based on the understanding of the above data"
      ]
    },
    {
      "cell_type": "markdown",
      "metadata": {
        "id": "uXB7kiE9AQCW",
        "colab_type": "text"
      },
      "source": [
        "***1. In which city there are more number of restaraunts?***  \n",
        "\n",
        "***2. What is the most frequenty given rated_text which was given by the customers?***\n",
        "\n",
        "***3. How many types of cuisines can a customer opt for?***\n",
        " \n",
        "***4. In how many restaraunts the on time delivery was successful?***\n",
        " \n",
        "***5. In how many cities this zomato services are available?*** \n",
        "  \n",
        "***6. what is the average aggregate_rating given by the customers?*** \n",
        "  \n",
        "***7. which variables are positively correlated with each other?***"
      ]
    },
    {
      "cell_type": "markdown",
      "metadata": {
        "id": "Ns9TUDeYMxU9",
        "colab_type": "text"
      },
      "source": [
        "#***Importing the required libraries like pandas,numpy,matplotlib and seaborn and reading the dataset into the dataframe***"
      ]
    },
    {
      "cell_type": "code",
      "metadata": {
        "id": "HqD9lLxk_hUw",
        "colab_type": "code",
        "outputId": "9ba07dd2-165e-4764-9b4c-12ec4d53d97b",
        "colab": {
          "base_uri": "https://localhost:8080/",
          "height": 1000
        }
      },
      "source": [
        "import pandas as pd\n",
        "import numpy as np\n",
        "import matplotlib.pyplot as plt\n",
        "import seaborn as sb\n",
        "df = pd.read_csv(\"zomato_restaurants.csv\")\n",
        "df"
      ],
      "execution_count": 27,
      "outputs": [
        {
          "output_type": "execute_result",
          "data": {
            "text/html": [
              "<div>\n",
              "<style scoped>\n",
              "    .dataframe tbody tr th:only-of-type {\n",
              "        vertical-align: middle;\n",
              "    }\n",
              "\n",
              "    .dataframe tbody tr th {\n",
              "        vertical-align: top;\n",
              "    }\n",
              "\n",
              "    .dataframe thead th {\n",
              "        text-align: right;\n",
              "    }\n",
              "</style>\n",
              "<table border=\"1\" class=\"dataframe\">\n",
              "  <thead>\n",
              "    <tr style=\"text-align: right;\">\n",
              "      <th></th>\n",
              "      <th>name</th>\n",
              "      <th>city</th>\n",
              "      <th>city_id</th>\n",
              "      <th>locality</th>\n",
              "      <th>cuisines</th>\n",
              "      <th>average_cost_for_two</th>\n",
              "      <th>currency</th>\n",
              "      <th>price_range_Rs</th>\n",
              "      <th>rating_text</th>\n",
              "      <th>votes</th>\n",
              "      <th>delivery</th>\n",
              "      <th>aggregate_rating</th>\n",
              "    </tr>\n",
              "  </thead>\n",
              "  <tbody>\n",
              "    <tr>\n",
              "      <th>0</th>\n",
              "      <td>Bikanervala</td>\n",
              "      <td>Agra</td>\n",
              "      <td>34</td>\n",
              "      <td>Khandari</td>\n",
              "      <td>North Indian, South Indian, Mithai, Street Foo...</td>\n",
              "      <td>700</td>\n",
              "      <td>Rs.</td>\n",
              "      <td>2000</td>\n",
              "      <td>Very Good</td>\n",
              "      <td>814</td>\n",
              "      <td>Yes</td>\n",
              "      <td>4.4</td>\n",
              "    </tr>\n",
              "    <tr>\n",
              "      <th>1</th>\n",
              "      <td>Mama Chicken Mama Franky House</td>\n",
              "      <td>Agra</td>\n",
              "      <td>34</td>\n",
              "      <td>Agra Cantt</td>\n",
              "      <td>North Indian, Mughlai, Rolls, Chinese, Fast Fo...</td>\n",
              "      <td>600</td>\n",
              "      <td>Rs.</td>\n",
              "      <td>2000</td>\n",
              "      <td>Very Good</td>\n",
              "      <td>1203</td>\n",
              "      <td>Yes</td>\n",
              "      <td>4.4</td>\n",
              "    </tr>\n",
              "    <tr>\n",
              "      <th>2</th>\n",
              "      <td>Bhagat Halwai</td>\n",
              "      <td>Agra</td>\n",
              "      <td>34</td>\n",
              "      <td>Shahganj</td>\n",
              "      <td>Fast Food, Mithai</td>\n",
              "      <td>300</td>\n",
              "      <td>Rs.</td>\n",
              "      <td>1000</td>\n",
              "      <td>Very Good</td>\n",
              "      <td>801</td>\n",
              "      <td>No</td>\n",
              "      <td>4.2</td>\n",
              "    </tr>\n",
              "    <tr>\n",
              "      <th>3</th>\n",
              "      <td>Bhagat Halwai</td>\n",
              "      <td>Agra</td>\n",
              "      <td>34</td>\n",
              "      <td>Civil Lines</td>\n",
              "      <td>Desserts, Bakery, Fast Food, South Indian</td>\n",
              "      <td>300</td>\n",
              "      <td>Rs.</td>\n",
              "      <td>1000</td>\n",
              "      <td>Very Good</td>\n",
              "      <td>693</td>\n",
              "      <td>No</td>\n",
              "      <td>4.3</td>\n",
              "    </tr>\n",
              "    <tr>\n",
              "      <th>4</th>\n",
              "      <td>The Salt Cafe Kitchen &amp; Bar</td>\n",
              "      <td>Agra</td>\n",
              "      <td>34</td>\n",
              "      <td>Tajganj</td>\n",
              "      <td>North Indian, Continental, Italian</td>\n",
              "      <td>1000</td>\n",
              "      <td>Rs.</td>\n",
              "      <td>3000</td>\n",
              "      <td>Excellent</td>\n",
              "      <td>470</td>\n",
              "      <td>No</td>\n",
              "      <td>4.9</td>\n",
              "    </tr>\n",
              "    <tr>\n",
              "      <th>...</th>\n",
              "      <td>...</td>\n",
              "      <td>...</td>\n",
              "      <td>...</td>\n",
              "      <td>...</td>\n",
              "      <td>...</td>\n",
              "      <td>...</td>\n",
              "      <td>...</td>\n",
              "      <td>...</td>\n",
              "      <td>...</td>\n",
              "      <td>...</td>\n",
              "      <td>...</td>\n",
              "      <td>...</td>\n",
              "    </tr>\n",
              "    <tr>\n",
              "      <th>19995</th>\n",
              "      <td>Gilly's Restobar</td>\n",
              "      <td>Bangalore</td>\n",
              "      <td>4</td>\n",
              "      <td>New BEL Road</td>\n",
              "      <td>Continental, Finger Food, North Indian, Chinese</td>\n",
              "      <td>1200</td>\n",
              "      <td>Rs.</td>\n",
              "      <td>3000</td>\n",
              "      <td>Excellent</td>\n",
              "      <td>3542</td>\n",
              "      <td>Yes</td>\n",
              "      <td>4.6</td>\n",
              "    </tr>\n",
              "    <tr>\n",
              "      <th>19996</th>\n",
              "      <td>Vanilla Sky</td>\n",
              "      <td>Bangalore</td>\n",
              "      <td>4</td>\n",
              "      <td>HSR</td>\n",
              "      <td>Chinese, Continental, North Indian, Finger Food</td>\n",
              "      <td>1200</td>\n",
              "      <td>Rs.</td>\n",
              "      <td>3000</td>\n",
              "      <td>Excellent</td>\n",
              "      <td>1665</td>\n",
              "      <td>Yes</td>\n",
              "      <td>4.6</td>\n",
              "    </tr>\n",
              "    <tr>\n",
              "      <th>19997</th>\n",
              "      <td>Koramangala Social</td>\n",
              "      <td>Bangalore</td>\n",
              "      <td>4</td>\n",
              "      <td>Koramangala 7th Block</td>\n",
              "      <td>American, North Indian, Chinese, Asian, Biryan...</td>\n",
              "      <td>1500</td>\n",
              "      <td>Rs.</td>\n",
              "      <td>3000</td>\n",
              "      <td>Excellent</td>\n",
              "      <td>5192</td>\n",
              "      <td>No</td>\n",
              "      <td>4.6</td>\n",
              "    </tr>\n",
              "    <tr>\n",
              "      <th>19998</th>\n",
              "      <td>House Of Commons</td>\n",
              "      <td>Bangalore</td>\n",
              "      <td>4</td>\n",
              "      <td>HSR</td>\n",
              "      <td>Continental, Asian, North Indian</td>\n",
              "      <td>1000</td>\n",
              "      <td>Rs.</td>\n",
              "      <td>3000</td>\n",
              "      <td>Excellent</td>\n",
              "      <td>4143</td>\n",
              "      <td>Yes</td>\n",
              "      <td>4.6</td>\n",
              "    </tr>\n",
              "    <tr>\n",
              "      <th>19999</th>\n",
              "      <td>XOOX Brewmill</td>\n",
              "      <td>Bangalore</td>\n",
              "      <td>4</td>\n",
              "      <td>Koramangala 5th Block</td>\n",
              "      <td>Modern Indian, European, Asian</td>\n",
              "      <td>2000</td>\n",
              "      <td>Rs.</td>\n",
              "      <td>4000</td>\n",
              "      <td>Excellent</td>\n",
              "      <td>2162</td>\n",
              "      <td>Yes</td>\n",
              "      <td>4.6</td>\n",
              "    </tr>\n",
              "  </tbody>\n",
              "</table>\n",
              "<p>20000 rows × 12 columns</p>\n",
              "</div>"
            ],
            "text/plain": [
              "                                 name       city  ...  delivery aggregate_rating\n",
              "0                         Bikanervala       Agra  ...       Yes              4.4\n",
              "1      Mama Chicken Mama Franky House       Agra  ...       Yes              4.4\n",
              "2                       Bhagat Halwai       Agra  ...        No              4.2\n",
              "3                       Bhagat Halwai       Agra  ...        No              4.3\n",
              "4         The Salt Cafe Kitchen & Bar       Agra  ...        No              4.9\n",
              "...                               ...        ...  ...       ...              ...\n",
              "19995                Gilly's Restobar  Bangalore  ...       Yes              4.6\n",
              "19996                     Vanilla Sky  Bangalore  ...       Yes              4.6\n",
              "19997              Koramangala Social  Bangalore  ...        No              4.6\n",
              "19998                House Of Commons  Bangalore  ...       Yes              4.6\n",
              "19999                   XOOX Brewmill  Bangalore  ...       Yes              4.6\n",
              "\n",
              "[20000 rows x 12 columns]"
            ]
          },
          "metadata": {
            "tags": []
          },
          "execution_count": 27
        }
      ]
    },
    {
      "cell_type": "markdown",
      "metadata": {
        "id": "cbP8MYWWXMel",
        "colab_type": "text"
      },
      "source": [
        "***observing the shape of the dataset***"
      ]
    },
    {
      "cell_type": "code",
      "metadata": {
        "id": "MwF-XmLAXPN9",
        "colab_type": "code",
        "outputId": "32d50d6b-681e-4534-862a-30e0468f693a",
        "colab": {
          "base_uri": "https://localhost:8080/",
          "height": 34
        }
      },
      "source": [
        "df.shape"
      ],
      "execution_count": 28,
      "outputs": [
        {
          "output_type": "execute_result",
          "data": {
            "text/plain": [
              "(20000, 12)"
            ]
          },
          "metadata": {
            "tags": []
          },
          "execution_count": 28
        }
      ]
    },
    {
      "cell_type": "markdown",
      "metadata": {
        "id": "ugLuxRmVpvkP",
        "colab_type": "text"
      },
      "source": [
        "* ***Finding the no of non null values in respective column***"
      ]
    },
    {
      "cell_type": "code",
      "metadata": {
        "id": "G4_t68QzG9gh",
        "colab_type": "code",
        "outputId": "9ffb7db3-cae6-4aa2-d8c4-cf14ad2d698d",
        "colab": {
          "base_uri": "https://localhost:8080/",
          "height": 306
        }
      },
      "source": [
        "df.info()"
      ],
      "execution_count": 29,
      "outputs": [
        {
          "output_type": "stream",
          "text": [
            "<class 'pandas.core.frame.DataFrame'>\n",
            "RangeIndex: 20000 entries, 0 to 19999\n",
            "Data columns (total 12 columns):\n",
            "name                    20000 non-null object\n",
            "city                    20000 non-null object\n",
            "city_id                 20000 non-null int64\n",
            "locality                20000 non-null object\n",
            "cuisines                19969 non-null object\n",
            "average_cost_for_two    20000 non-null int64\n",
            "currency                20000 non-null object\n",
            "price_range_Rs          20000 non-null int64\n",
            "rating_text             16900 non-null object\n",
            "votes                   20000 non-null int64\n",
            "delivery                20000 non-null object\n",
            "aggregate_rating        16900 non-null float64\n",
            "dtypes: float64(1), int64(4), object(7)\n",
            "memory usage: 1.8+ MB\n"
          ],
          "name": "stdout"
        }
      ]
    },
    {
      "cell_type": "markdown",
      "metadata": {
        "id": "lhUP5vv5HKdY",
        "colab_type": "text"
      },
      "source": [
        "* *** Filling the NaN values in the aggregate_rating column by using the average of the aggregate_rating given by the customers***"
      ]
    },
    {
      "cell_type": "code",
      "metadata": {
        "id": "8PaZ0a4CBHft",
        "colab_type": "code",
        "outputId": "d4b4efde-6f73-457a-8457-27e4170c833b",
        "colab": {
          "base_uri": "https://localhost:8080/",
          "height": 306
        }
      },
      "source": [
        "df[\"aggregate_rating\"].fillna(df[\"aggregate_rating\"].mean(),inplace = True )\n",
        "df.info()"
      ],
      "execution_count": 30,
      "outputs": [
        {
          "output_type": "stream",
          "text": [
            "<class 'pandas.core.frame.DataFrame'>\n",
            "RangeIndex: 20000 entries, 0 to 19999\n",
            "Data columns (total 12 columns):\n",
            "name                    20000 non-null object\n",
            "city                    20000 non-null object\n",
            "city_id                 20000 non-null int64\n",
            "locality                20000 non-null object\n",
            "cuisines                19969 non-null object\n",
            "average_cost_for_two    20000 non-null int64\n",
            "currency                20000 non-null object\n",
            "price_range_Rs          20000 non-null int64\n",
            "rating_text             16900 non-null object\n",
            "votes                   20000 non-null int64\n",
            "delivery                20000 non-null object\n",
            "aggregate_rating        20000 non-null float64\n",
            "dtypes: float64(1), int64(4), object(7)\n",
            "memory usage: 1.8+ MB\n"
          ],
          "name": "stdout"
        }
      ]
    },
    {
      "cell_type": "markdown",
      "metadata": {
        "id": "B13KB1UtIKzn",
        "colab_type": "text"
      },
      "source": [
        "* ***Filling the NaN values in the rating_text column by using the most frequently rated_text given by the customers***"
      ]
    },
    {
      "cell_type": "code",
      "metadata": {
        "id": "pUUZ1QGbJsKj",
        "colab_type": "code",
        "outputId": "e82df341-29da-4b4a-b97c-df61a83d12c8",
        "colab": {
          "base_uri": "https://localhost:8080/",
          "height": 306
        }
      },
      "source": [
        "df[\"rating_text\"].fillna(df[\"rating_text\"].value_counts().index[0],inplace =True)\n",
        "df.info()\n"
      ],
      "execution_count": 31,
      "outputs": [
        {
          "output_type": "stream",
          "text": [
            "<class 'pandas.core.frame.DataFrame'>\n",
            "RangeIndex: 20000 entries, 0 to 19999\n",
            "Data columns (total 12 columns):\n",
            "name                    20000 non-null object\n",
            "city                    20000 non-null object\n",
            "city_id                 20000 non-null int64\n",
            "locality                20000 non-null object\n",
            "cuisines                19969 non-null object\n",
            "average_cost_for_two    20000 non-null int64\n",
            "currency                20000 non-null object\n",
            "price_range_Rs          20000 non-null int64\n",
            "rating_text             20000 non-null object\n",
            "votes                   20000 non-null int64\n",
            "delivery                20000 non-null object\n",
            "aggregate_rating        20000 non-null float64\n",
            "dtypes: float64(1), int64(4), object(7)\n",
            "memory usage: 1.8+ MB\n"
          ],
          "name": "stdout"
        }
      ]
    },
    {
      "cell_type": "markdown",
      "metadata": {
        "id": "J8LosbNzJzcI",
        "colab_type": "text"
      },
      "source": [
        "***Here were are deleting the row that containing the NaN values in the cuisines column***\n",
        "* we are dropping these rows since we cannot replace the cuisines with some other data in the coloumn"
      ]
    },
    {
      "cell_type": "code",
      "metadata": {
        "id": "zhzGAQyRBIM5",
        "colab_type": "code",
        "outputId": "e52d65e2-e190-4cce-d870-249c6d321573",
        "colab": {
          "base_uri": "https://localhost:8080/",
          "height": 306
        }
      },
      "source": [
        "df.dropna(axis = 0,inplace = True)\n",
        "df.info()"
      ],
      "execution_count": 32,
      "outputs": [
        {
          "output_type": "stream",
          "text": [
            "<class 'pandas.core.frame.DataFrame'>\n",
            "Int64Index: 19969 entries, 0 to 19999\n",
            "Data columns (total 12 columns):\n",
            "name                    19969 non-null object\n",
            "city                    19969 non-null object\n",
            "city_id                 19969 non-null int64\n",
            "locality                19969 non-null object\n",
            "cuisines                19969 non-null object\n",
            "average_cost_for_two    19969 non-null int64\n",
            "currency                19969 non-null object\n",
            "price_range_Rs          19969 non-null int64\n",
            "rating_text             19969 non-null object\n",
            "votes                   19969 non-null int64\n",
            "delivery                19969 non-null object\n",
            "aggregate_rating        19969 non-null float64\n",
            "dtypes: float64(1), int64(4), object(7)\n",
            "memory usage: 2.0+ MB\n"
          ],
          "name": "stdout"
        }
      ]
    },
    {
      "cell_type": "markdown",
      "metadata": {
        "id": "hu0iE2iPFPi7",
        "colab_type": "text"
      },
      "source": [
        "#preliminary analysis\n",
        "\n",
        "***Identifying the datatype of each column in the dataframe(df):***"
      ]
    },
    {
      "cell_type": "code",
      "metadata": {
        "id": "4m48HtGoIgwl",
        "colab_type": "code",
        "outputId": "4a945ad3-143c-448f-cdba-4260afca7522",
        "colab": {
          "base_uri": "https://localhost:8080/",
          "height": 238
        }
      },
      "source": [
        "df.dtypes"
      ],
      "execution_count": 33,
      "outputs": [
        {
          "output_type": "execute_result",
          "data": {
            "text/plain": [
              "name                     object\n",
              "city                     object\n",
              "city_id                   int64\n",
              "locality                 object\n",
              "cuisines                 object\n",
              "average_cost_for_two      int64\n",
              "currency                 object\n",
              "price_range_Rs            int64\n",
              "rating_text              object\n",
              "votes                     int64\n",
              "delivery                 object\n",
              "aggregate_rating        float64\n",
              "dtype: object"
            ]
          },
          "metadata": {
            "tags": []
          },
          "execution_count": 33
        }
      ]
    },
    {
      "cell_type": "markdown",
      "metadata": {
        "id": "fQ6q_MBIIumU",
        "colab_type": "text"
      },
      "source": [
        "***Identifying the Measures of central tendency of the columns in  the dataframe(df):***\n"
      ]
    },
    {
      "cell_type": "code",
      "metadata": {
        "id": "z10cv6NsJP-z",
        "colab_type": "code",
        "outputId": "e85d724c-3f86-486e-ac0f-7a69d30b1b45",
        "colab": {
          "base_uri": "https://localhost:8080/",
          "height": 297
        }
      },
      "source": [
        "df.describe()"
      ],
      "execution_count": 34,
      "outputs": [
        {
          "output_type": "execute_result",
          "data": {
            "text/html": [
              "<div>\n",
              "<style scoped>\n",
              "    .dataframe tbody tr th:only-of-type {\n",
              "        vertical-align: middle;\n",
              "    }\n",
              "\n",
              "    .dataframe tbody tr th {\n",
              "        vertical-align: top;\n",
              "    }\n",
              "\n",
              "    .dataframe thead th {\n",
              "        text-align: right;\n",
              "    }\n",
              "</style>\n",
              "<table border=\"1\" class=\"dataframe\">\n",
              "  <thead>\n",
              "    <tr style=\"text-align: right;\">\n",
              "      <th></th>\n",
              "      <th>city_id</th>\n",
              "      <th>average_cost_for_two</th>\n",
              "      <th>price_range_Rs</th>\n",
              "      <th>votes</th>\n",
              "      <th>aggregate_rating</th>\n",
              "    </tr>\n",
              "  </thead>\n",
              "  <tbody>\n",
              "    <tr>\n",
              "      <th>count</th>\n",
              "      <td>19969.000000</td>\n",
              "      <td>19969.000000</td>\n",
              "      <td>19969.000000</td>\n",
              "      <td>19969.000000</td>\n",
              "      <td>19969.000000</td>\n",
              "    </tr>\n",
              "    <tr>\n",
              "      <th>mean</th>\n",
              "      <td>4001.948670</td>\n",
              "      <td>496.885172</td>\n",
              "      <td>1815.013271</td>\n",
              "      <td>246.343332</td>\n",
              "      <td>3.830694</td>\n",
              "    </tr>\n",
              "    <tr>\n",
              "      <th>std</th>\n",
              "      <td>5393.190814</td>\n",
              "      <td>491.875207</td>\n",
              "      <td>853.873240</td>\n",
              "      <td>621.068177</td>\n",
              "      <td>0.438107</td>\n",
              "    </tr>\n",
              "    <tr>\n",
              "      <th>min</th>\n",
              "      <td>4.000000</td>\n",
              "      <td>0.000000</td>\n",
              "      <td>1000.000000</td>\n",
              "      <td>-18.000000</td>\n",
              "      <td>2.100000</td>\n",
              "    </tr>\n",
              "    <tr>\n",
              "      <th>25%</th>\n",
              "      <td>22.000000</td>\n",
              "      <td>200.000000</td>\n",
              "      <td>1000.000000</td>\n",
              "      <td>7.000000</td>\n",
              "      <td>3.600000</td>\n",
              "    </tr>\n",
              "    <tr>\n",
              "      <th>50%</th>\n",
              "      <td>25.000000</td>\n",
              "      <td>400.000000</td>\n",
              "      <td>2000.000000</td>\n",
              "      <td>80.000000</td>\n",
              "      <td>3.830651</td>\n",
              "    </tr>\n",
              "    <tr>\n",
              "      <th>75%</th>\n",
              "      <td>11303.000000</td>\n",
              "      <td>600.000000</td>\n",
              "      <td>2000.000000</td>\n",
              "      <td>246.000000</td>\n",
              "      <td>4.100000</td>\n",
              "    </tr>\n",
              "    <tr>\n",
              "      <th>max</th>\n",
              "      <td>11335.000000</td>\n",
              "      <td>14000.000000</td>\n",
              "      <td>4000.000000</td>\n",
              "      <td>18967.000000</td>\n",
              "      <td>4.900000</td>\n",
              "    </tr>\n",
              "  </tbody>\n",
              "</table>\n",
              "</div>"
            ],
            "text/plain": [
              "            city_id  average_cost_for_two  ...         votes  aggregate_rating\n",
              "count  19969.000000          19969.000000  ...  19969.000000      19969.000000\n",
              "mean    4001.948670            496.885172  ...    246.343332          3.830694\n",
              "std     5393.190814            491.875207  ...    621.068177          0.438107\n",
              "min        4.000000              0.000000  ...    -18.000000          2.100000\n",
              "25%       22.000000            200.000000  ...      7.000000          3.600000\n",
              "50%       25.000000            400.000000  ...     80.000000          3.830651\n",
              "75%    11303.000000            600.000000  ...    246.000000          4.100000\n",
              "max    11335.000000          14000.000000  ...  18967.000000          4.900000\n",
              "\n",
              "[8 rows x 5 columns]"
            ]
          },
          "metadata": {
            "tags": []
          },
          "execution_count": 34
        }
      ]
    },
    {
      "cell_type": "markdown",
      "metadata": {
        "id": "KNBPiE5iJluD",
        "colab_type": "text"
      },
      "source": [
        "***Identifying the Variability of the columns in the dataframe(df):***"
      ]
    },
    {
      "cell_type": "code",
      "metadata": {
        "id": "pPk4fFM6JzQk",
        "colab_type": "code",
        "outputId": "756780ab-3322-47bc-b879-68bde20e14e8",
        "colab": {
          "base_uri": "https://localhost:8080/",
          "height": 119
        }
      },
      "source": [
        "df.var()\n"
      ],
      "execution_count": 35,
      "outputs": [
        {
          "output_type": "execute_result",
          "data": {
            "text/plain": [
              "city_id                 2.908651e+07\n",
              "average_cost_for_two    2.419412e+05\n",
              "price_range_Rs          7.290995e+05\n",
              "votes                   3.857257e+05\n",
              "aggregate_rating        1.919377e-01\n",
              "dtype: float64"
            ]
          },
          "metadata": {
            "tags": []
          },
          "execution_count": 35
        }
      ]
    },
    {
      "cell_type": "markdown",
      "metadata": {
        "id": "s7dXPxzZL5Wf",
        "colab_type": "text"
      },
      "source": [
        "# ***Identifying the behaviour of  the distribution i.e; whether the distribution is normal or positively skewed or negatively skewed***\n"
      ]
    },
    {
      "cell_type": "markdown",
      "metadata": {
        "id": "vpRlr3wqbg84",
        "colab_type": "text"
      },
      "source": [
        "* ***behaviour of the aggregate_rating column:***\n",
        "\n",
        "\n",
        "\n",
        "\n",
        "\n"
      ]
    },
    {
      "cell_type": "code",
      "metadata": {
        "id": "llxFi_DSMlis",
        "colab_type": "code",
        "outputId": "c4d79f35-e365-479f-c3b6-7cb7ea4465dc",
        "colab": {
          "base_uri": "https://localhost:8080/",
          "height": 280
        }
      },
      "source": [
        "sb.distplot(df[\"aggregate_rating\"],kde = False);\n",
        "#By plotting a histogram of the column aggregate_rating. we can clearly observe that it is a normal distribution.\n",
        "#It is a symmetrical distributionsb.boxplot(df[\"votes\"],color = \"r\")"
      ],
      "execution_count": 36,
      "outputs": [
        {
          "output_type": "display_data",
          "data": {
            "image/png": "[encoded data removed]",
            "text/plain": [
              "<Figure size 432x288 with 1 Axes>"
            ]
          },
          "metadata": {
            "tags": []
          }
        }
      ]
    },
    {
      "cell_type": "markdown",
      "metadata": {
        "id": "XhjqK3fhbyhc",
        "colab_type": "text"
      },
      "source": [
        "* ***behaviour of the votes column:***"
      ]
    },
    {
      "cell_type": "code",
      "metadata": {
        "id": "HSwXo4v-WnKP",
        "colab_type": "code",
        "outputId": "78584a1f-6bfc-4d06-e23f-6df5e4f1fba5",
        "colab": {
          "base_uri": "https://localhost:8080/",
          "height": 269
        }
      },
      "source": [
        "plt.hist(df[\"votes\"],bins=100 ,color =\"r\");\n",
        "plt.xlim(0,4000)\n",
        "plt.show()\n",
        "#By plotting a box plot of the column votes, we can clearly observe that it is  positive skewed \n"
      ],
      "execution_count": 37,
      "outputs": [
        {
          "output_type": "display_data",
          "data": {
            "image/png": "[encoded data removed]",
            "text/plain": [
              "<Figure size 432x288 with 1 Axes>"
            ]
          },
          "metadata": {
            "tags": []
          }
        }
      ]
    },
    {
      "cell_type": "markdown",
      "metadata": {
        "id": "idyhq2_ucUtZ",
        "colab_type": "text"
      },
      "source": [
        "* ***behaviour of the price_range_Rs column***"
      ]
    },
    {
      "cell_type": "code",
      "metadata": {
        "id": "5-IL-ZxmegSQ",
        "colab_type": "code",
        "outputId": "82a58612-a514-4953-e844-8374266d3125",
        "colab": {
          "base_uri": "https://localhost:8080/",
          "height": 280
        }
      },
      "source": [
        "sb.distplot(df[\"price_range_Rs\"],color = \"r\",kde = False);\n",
        "#Here the price_range_Rs column distribution is positive skewed"
      ],
      "execution_count": 38,
      "outputs": [
        {
          "output_type": "display_data",
          "data": {
            "image/png": "[encoded data removed]",
            "text/plain": [
              "<Figure size 432x288 with 1 Axes>"
            ]
          },
          "metadata": {
            "tags": []
          }
        }
      ]
    },
    {
      "cell_type": "markdown",
      "metadata": {
        "id": "6FUQgwVVe5rj",
        "colab_type": "text"
      },
      "source": [
        "* ***behaviour of average_cost_for_two column***"
      ]
    },
    {
      "cell_type": "code",
      "metadata": {
        "id": "pvzDfJqWfB72",
        "colab_type": "code",
        "outputId": "421f5e36-ee4c-40f3-bdb2-a9a2fd7f4ed1",
        "colab": {
          "base_uri": "https://localhost:8080/",
          "height": 265
        }
      },
      "source": [
        "plt.hist(df[\"average_cost_for_two\"],bins = 100)\n",
        "plt.xlim(0,4000)\n",
        "plt.show()\n",
        "#Here the average_cost_for_two column is positive skewed distribution"
      ],
      "execution_count": 39,
      "outputs": [
        {
          "output_type": "display_data",
          "data": {
            "image/png": "[encoded data removed]",
            "text/plain": [
              "<Figure size 432x288 with 1 Axes>"
            ]
          },
          "metadata": {
            "tags": []
          }
        }
      ]
    },
    {
      "cell_type": "markdown",
      "metadata": {
        "id": "RWmKbUVi9HT_",
        "colab_type": "text"
      },
      "source": [
        "* ***outliers:***"
      ]
    },
    {
      "cell_type": "code",
      "metadata": {
        "id": "-h5r3Biv9E3H",
        "colab_type": "code",
        "outputId": "14df439f-c95e-4322-8069-76f6fe45542d",
        "colab": {
          "base_uri": "https://localhost:8080/",
          "height": 280
        }
      },
      "source": [
        "sb.boxplot(df[\"price_range_Rs\"],color = \"r\");\n",
        "#Here the price_range_Rs column contains the outliers that was shown iprice_range_Rsn below boxplot\n",
        "#There is one outlier in the price_range_Rs column distribution\n",
        "#4000 is the outlier which was shown in the below boxplot"
      ],
      "execution_count": 40,
      "outputs": [
        {
          "output_type": "display_data",
          "data": {
            "image/png": "[encoded data removed]",
            "text/plain": [
              "<Figure size 432x288 with 1 Axes>"
            ]
          },
          "metadata": {
            "tags": []
          }
        }
      ]
    },
    {
      "cell_type": "markdown",
      "metadata": {
        "id": "z_OcG7lmAfLm",
        "colab_type": "text"
      },
      "source": [
        "#correlation between the variables in the about data\n",
        "\n",
        "* ***correlation between the average_cost_for_two* and *price_range_Rs***\n",
        "\n",
        "* ***these two variables are positively correlated***"
      ]
    },
    {
      "cell_type": "code",
      "metadata": {
        "id": "bCyBHAtkBcMH",
        "colab_type": "code",
        "outputId": "c751ca14-99e8-4bf5-b62d-7cddf12d1af6",
        "colab": {
          "base_uri": "https://localhost:8080/",
          "height": 269
        }
      },
      "source": [
        "plt.scatter(x = df[\"average_cost_for_two\"],y = df[\"price_range_Rs\"],label =[\"average_cost_for_two\",\"price_range_Rs\"]);\n",
        "plt.xlim(0,5000)\n",
        "plt.ylim(900,5000)\n",
        "plt.show()\n",
        "\n",
        "#the correlation between the averagae_cost_for_two and the price_range_Rs is shown in below scatter plot"
      ],
      "execution_count": 41,
      "outputs": [
        {
          "output_type": "display_data",
          "data": {
            "image/png": "[encoded data removed]",
            "text/plain": [
              "<Figure size 432x288 with 1 Axes>"
            ]
          },
          "metadata": {
            "tags": []
          }
        }
      ]
    },
    {
      "cell_type": "markdown",
      "metadata": {
        "id": "wHDODLKzERVG",
        "colab_type": "text"
      },
      "source": [
        "***The variables which are not correlated:***\n",
        "* Here the variables *city* and *aggregate_rating* are not correlated at all\n",
        "\n",
        "\n",
        "* Here the variables *city* and *rating_text* are not correlated at all\n",
        "\n"
      ]
    },
    {
      "cell_type": "markdown",
      "metadata": {
        "id": "vJK7O182Kqd3",
        "colab_type": "text"
      },
      "source": [
        "***relational plotting between corresponding variables in the DataFrame(df)***\n",
        "* you can find relations between corresponding variables in the below code cell"
      ]
    },
    {
      "cell_type": "code",
      "metadata": {
        "id": "ZfXuDw19K_9m",
        "colab_type": "code",
        "outputId": "a2de6a02-9bc9-49ec-f08c-c0a048384bfa",
        "colab": {
          "base_uri": "https://localhost:8080/",
          "height": 929
        }
      },
      "source": [
        "sb.pairplot(df);"
      ],
      "execution_count": 42,
      "outputs": [
        {
          "output_type": "display_data",
          "data": {
            "image/png": "[encoded data removed]",
            "text/plain": [
              "<Figure size 900x900 with 30 Axes>"
            ]
          },
          "metadata": {
            "tags": []
          }
        }
      ]
    },
    {
      "cell_type": "markdown",
      "metadata": {
        "id": "ZgfNSLECELKW",
        "colab_type": "text"
      },
      "source": [
        "***Heat map for the dataframe***\n",
        "\n",
        "* This heat map shows the correlations between variables in the dataset"
      ]
    },
    {
      "cell_type": "code",
      "metadata": {
        "id": "Uj6ZQ3z0clvx",
        "colab_type": "code",
        "outputId": "5691f894-fbb9-4da0-f02b-6167439672ae",
        "colab": {
          "base_uri": "https://localhost:8080/",
          "height": 368
        }
      },
      "source": [
        "sb.heatmap(df.corr(),annot = True,linewidths=1.0);"
      ],
      "execution_count": 43,
      "outputs": [
        {
          "output_type": "display_data",
          "data": {
            "image/png": "[encoded data removed]",
            "text/plain": [
              "<Figure size 432x288 with 2 Axes>"
            ]
          },
          "metadata": {
            "tags": []
          }
        }
      ]
    },
    {
      "cell_type": "markdown",
      "metadata": {
        "id": "vyE3UIPCdxtz",
        "colab_type": "text"
      },
      "source": [
        "# Answering the questions\n",
        "\n",
        "##***1. In which city there are more number of restaraunts?***\n"
      ]
    },
    {
      "cell_type": "markdown",
      "metadata": {
        "id": "UGs8QYD8J_hE",
        "colab_type": "text"
      },
      "source": [
        "***By knowing that which city has the most no of restaraunts, we can manage several things like appointing more no of delivery mans etc..***"
      ]
    },
    {
      "cell_type": "code",
      "metadata": {
        "id": "q92Pbvxkdw6r",
        "colab_type": "code",
        "outputId": "b199d5b0-3817-43a1-86a2-3f871567308e",
        "colab": {
          "base_uri": "https://localhost:8080/",
          "height": 204
        }
      },
      "source": [
        "df[\"city\"].value_counts()\n",
        "# on executing this cell we have known that the city with more number or restaraunts is \"Ajmer\"\n",
        "#AJMER\n"
      ],
      "execution_count": 44,
      "outputs": [
        {
          "output_type": "execute_result",
          "data": {
            "text/plain": [
              "Ajmer          3275\n",
              "Ahmedabad      3162\n",
              "Agra           2621\n",
              "Amritsar       2347\n",
              "Aurangabad     2164\n",
              "Allahabad      2112\n",
              "Alappuzha      1934\n",
              "Amravati       1832\n",
              "Bangalore       370\n",
              "Gandhinagar     152\n",
              "Name: city, dtype: int64"
            ]
          },
          "metadata": {
            "tags": []
          },
          "execution_count": 44
        }
      ]
    },
    {
      "cell_type": "markdown",
      "metadata": {
        "id": "OqBIjsSnMSok",
        "colab_type": "text"
      },
      "source": [
        "#***2. What is the most frequenty given rated_text which was given by the customers?***"
      ]
    },
    {
      "cell_type": "markdown",
      "metadata": {
        "id": "gCLdXQarO5fX",
        "colab_type": "text"
      },
      "source": [
        "***rating_text is very useful for improving the services and for making  better services to the customers in these type of buisnesses***"
      ]
    },
    {
      "cell_type": "code",
      "metadata": {
        "id": "03OcZrJ9MpmN",
        "colab_type": "code",
        "outputId": "4f53d6f8-2ea1-435c-cf55-afcec2fb151e",
        "colab": {
          "base_uri": "https://localhost:8080/",
          "height": 34
        }
      },
      "source": [
        "df[\"rating_text\"].value_counts().index[0]\n",
        "#Very Good is the most frequently given rating_text\n"
      ],
      "execution_count": 45,
      "outputs": [
        {
          "output_type": "execute_result",
          "data": {
            "text/plain": [
              "'Very Good'"
            ]
          },
          "metadata": {
            "tags": []
          },
          "execution_count": 45
        }
      ]
    },
    {
      "cell_type": "markdown",
      "metadata": {
        "id": "HGUNKVGsPm7g",
        "colab_type": "text"
      },
      "source": [
        "#***3. How many types of cuisines can a customer opt for?***\n",
        "\n",
        "***more the cuisines more the choices for the customers to opt their dishes\n",
        "and by increasing the no of cuisines one can improve their buisness*** "
      ]
    },
    {
      "cell_type": "code",
      "metadata": {
        "id": "zcqMa1eMOXvP",
        "colab_type": "code",
        "outputId": "0dfff141-157c-4de1-c16c-2c088fbf7dd8",
        "colab": {
          "base_uri": "https://localhost:8080/",
          "height": 85
        }
      },
      "source": [
        "df[\"cuisines\"].unique()\n",
        "# the different types of cuisines available are listed below"
      ],
      "execution_count": 46,
      "outputs": [
        {
          "output_type": "execute_result",
          "data": {
            "text/plain": [
              "array(['North Indian, South Indian, Mithai, Street Food, Desserts',\n",
              "       'North Indian, Mughlai, Rolls, Chinese, Fast Food, Street Food',\n",
              "       'Fast Food, Mithai', ..., 'Modern Indian, Fast Food',\n",
              "       'Beverages, Tea', 'Asian, BBQ, Seafood, Chinese'], dtype=object)"
            ]
          },
          "metadata": {
            "tags": []
          },
          "execution_count": 46
        }
      ]
    },
    {
      "cell_type": "markdown",
      "metadata": {
        "id": "Lzgfe-l9Qfr0",
        "colab_type": "text"
      },
      "source": [
        "#4. In how many restaraunts the on time delivery was successful?\n",
        "\n",
        "***on time delivery plays a key role in these types of buisnesses. One can improve their delivery services based on this type of statistics***"
      ]
    },
    {
      "cell_type": "code",
      "metadata": {
        "id": "BTIlpLF_RBln",
        "colab_type": "code",
        "outputId": "44b3f4ac-1abe-4a02-ca3e-3c6777fe6266",
        "colab": {
          "base_uri": "https://localhost:8080/",
          "height": 282
        }
      },
      "source": [
        "print(df[\"delivery\"].value_counts()[0])\n",
        "#In 10496 Restaraunts the on time delivery is successful\n",
        "plt.hist(df[\"delivery\"]);\n",
        "\n",
        "\n"
      ],
      "execution_count": 47,
      "outputs": [
        {
          "output_type": "stream",
          "text": [
            "10496\n"
          ],
          "name": "stdout"
        },
        {
          "output_type": "display_data",
          "data": {
            "image/png": "[encoded data removed]",
            "text/plain": [
              "<Figure size 432x288 with 1 Axes>"
            ]
          },
          "metadata": {
            "tags": []
          }
        }
      ]
    },
    {
      "cell_type": "markdown",
      "metadata": {
        "id": "d9OGWgHmT5s8",
        "colab_type": "text"
      },
      "source": [
        "#5. In how many cities this zomato services are available?\n",
        "\n",
        "***this is very important to known that how many cities have these zomato services to increase their buisness and to maintain proper functioning of services***"
      ]
    },
    {
      "cell_type": "code",
      "metadata": {
        "id": "brYuG7QiUadP",
        "colab_type": "code",
        "outputId": "9375c1bb-a9fc-479c-a7d9-919593b110af",
        "colab": {
          "base_uri": "https://localhost:8080/",
          "height": 85
        }
      },
      "source": [
        "no_cities = df[\"city\"].unique()\n",
        "print(np.shape(no_cities))\n",
        "no_cities\n",
        "#In 10 major cities the zomato services are available\n"
      ],
      "execution_count": 48,
      "outputs": [
        {
          "output_type": "stream",
          "text": [
            "(10,)\n"
          ],
          "name": "stdout"
        },
        {
          "output_type": "execute_result",
          "data": {
            "text/plain": [
              "array(['Agra', 'Ahmedabad', 'Gandhinagar', 'Ajmer', 'Alappuzha',\n",
              "       'Allahabad', 'Amravati', 'Amritsar', 'Aurangabad', 'Bangalore'],\n",
              "      dtype=object)"
            ]
          },
          "metadata": {
            "tags": []
          },
          "execution_count": 48
        }
      ]
    },
    {
      "cell_type": "markdown",
      "metadata": {
        "id": "hloZFycbVn6j",
        "colab_type": "text"
      },
      "source": [
        "#***6. what is the average aggregate_rating given by the customers?***\n",
        "\n",
        "***average aggregate_rating plays a crucial role in these type of buisnesses. It is compulsory to take the feedback from the customers to improve the services and to work more effieciently***\n"
      ]
    },
    {
      "cell_type": "code",
      "metadata": {
        "id": "BAZ7xaSMUaX6",
        "colab_type": "code",
        "outputId": "da4e1a8e-27fe-4bbc-c06b-23bbfed30456",
        "colab": {
          "base_uri": "https://localhost:8080/",
          "height": 34
        }
      },
      "source": [
        "df[\"aggregate_rating\"].mean()\n",
        "#the average aggregate_rating given by the customers is 3.8306940195173627"
      ],
      "execution_count": 49,
      "outputs": [
        {
          "output_type": "execute_result",
          "data": {
            "text/plain": [
              "3.8306940195173627"
            ]
          },
          "metadata": {
            "tags": []
          },
          "execution_count": 49
        }
      ]
    },
    {
      "cell_type": "markdown",
      "metadata": {
        "id": "Gy8gbcqyXUlt",
        "colab_type": "text"
      },
      "source": [
        "#***7.  which variables are positively correlated with each other?***\n",
        "\n",
        "***average_cost_for_two and price_range_Rs are positively correlated***"
      ]
    },
    {
      "cell_type": "code",
      "metadata": {
        "id": "189pn5OKX53V",
        "colab_type": "code",
        "outputId": "0107ca88-98e0-442e-eb5b-31d47a76bc46",
        "colab": {
          "base_uri": "https://localhost:8080/",
          "height": 368
        }
      },
      "source": [
        "sb.heatmap(df.corr(),annot = True,linewidths=1.0);\n",
        "#From the below heat map it is very clear that average_cost_for_two and price_range_Rs are positively correlated "
      ],
      "execution_count": 50,
      "outputs": [
        {
          "output_type": "display_data",
          "data": {
            "image/png": "[encoded data removed]",
            "text/plain": [
              "<Figure size 432x288 with 2 Axes>"
            ]
          },
          "metadata": {
            "tags": []
          }
        }
      ]
    },
    {
      "cell_type": "markdown",
      "metadata": {
        "id": "u9PecIhCZ5si",
        "colab_type": "text"
      },
      "source": [
        "# ***Conclusion:***\n",
        "\n",
        "***In this data, By gathering the reviews and taking votes from the customers. We can improve the business of zomato.***\n",
        "\n",
        "***By this type of analysis, We can predict what the customer wants most***\n",
        "\n",
        "***with the help of graphs and charts, we can visualize the data very easily and efficiently.We can share our opinion efficiently to others***\n",
        "\n",
        "***By this data visualization we can save our time and do our work efficiently and quickly***"
      ]
    },
    {
      "cell_type": "markdown",
      "metadata": {
        "id": "rNNmehNQckCu",
        "colab_type": "text"
      },
      "source": [
        "#***Our Team:***\n",
        "\n",
        "##*** _________________*INVADERS*____________________ ***\n",
        "\n",
        "\n"
      ]
    },
    {
      "cell_type": "markdown",
      "metadata": {
        "id": "gvLOgGvsbZ6r",
        "colab_type": "text"
      },
      "source": [
        "#Team Mates:\n",
        "\n",
        "***M H S S Ganesh Babu - 19PA1A05B3-CSE(B)***\n",
        "\n",
        "***M Revanth - 19PA1A0598-CSE(B)***\n",
        "\n",
        "***K Lohit - 19PA1A0565-CSE(B)***\n",
        "\n",
        "***P Bala chandu prakash - 19PA1A05C8-CSE(B)***"
      ]
    },
    {
      "cell_type": "markdown",
      "metadata": {
        "id": "mJxvNehieBh9",
        "colab_type": "text"
      },
      "source": [
        "#______________________________________THE END__________________________________________\n",
        "\n",
        "---\n",
        "\n",
        "\n",
        "\n",
        "---\n",
        "\n",
        "\n",
        "\n",
        "---\n",
        "\n",
        "\n",
        "\n",
        "---\n",
        "\n",
        "\n",
        "\n",
        "---\n",
        "\n"
      ]
    }
  ]
}